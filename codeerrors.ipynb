{
 "cells": [
  {
   "cell_type": "markdown",
   "id": "0dfc1f09-0494-45e2-998b-56aa2ad82ab5",
   "metadata": {},
   "source": [
    "### Dijkstra perspective applied to size of an image in bytes \n",
    "\n",
    "Plots program success chance ($ P_{{\\rm good\\_program}}$) v. program \"size\" ($N_{\\rm L}$) assuming an effective correctness probability ($p_{{\\rm good\\_line}}$)for an \"effective line of code\". \n",
    "\n",
    "$$\n",
    "P_{{\\rm good\\_program}}=p_{{\\rm good\\_line}}^{N_{{\\rm L}}}\n",
    "$$\n",
    "\n",
    "Parameters:\n",
    "\n",
    "`EPML`: error per million effective lines\n",
    "\n",
    "`BPL`: image bytes per effective line\n",
    "\n",
    "`ISIZE`: image sizes (bytes)\n",
    "\n",
    "Other Variables:\n",
    "\n",
    "`PBADL`: probability an effective line is bad\n",
    "\n",
    "`PGOODL`: probability an effective line is good\n",
    "\n",
    "`NL`: numbers of effective lines\n",
    "\n",
    "`ISIZEGB`: image sizes in GB"
   ]
  },
  {
   "cell_type": "code",
   "execution_count": null,
   "id": "108ece2c-f962-4fbe-ab6d-b72dedce5416",
   "metadata": {},
   "outputs": [],
   "source": [
    "import numpy as np\n",
    "import matplotlib.pyplot as plt "
   ]
  },
  {
   "cell_type": "code",
   "execution_count": null,
   "id": "5c4ff190-90b7-41be-9043-8d5309755dfc",
   "metadata": {},
   "outputs": [],
   "source": [
    "# First lets look plot v LOC\n",
    "EPML=1\n",
    "BPL=200\n",
    "\n",
    "ISIZE=[(8*10**i) for i in range(2,10)] # 8KB to 80GB\n",
    "\n",
    "PBADL=1/(1e6/EPML)\n",
    "PGOODL=1-PBADL\n",
    "ISIZEGB=[i/1E9 for i in ISIZE]\n",
    "NL=[i/BPL for i in ISIZE]\n",
    "\n",
    "GOODPERCENT=np.round(np.array(PGOODL)**np.array(NL)*100)\n",
    "\n",
    "plt.semilogx(NL,GOODPERCENT,'o');\n",
    "plt.ylabel('Percent Chance Good')\n",
    "plt.xlabel('log10(\\\"LOC\\\")')\n",
    "plt.ylim((-5,110))\n",
    "plt.title('Effective Errors per Million \\\"LOC\\\" = %f'%(EPML))\n",
    "plt.grid(which='both',linestyle='--')\n",
    "xmin, xmax, ymin, ymax = plt.axis() \n",
    "ldx=np.log10(xmax)-np.log10(xmin)\n",
    "xt=10**(np.log10(xmin)+ldx/20)\n",
    "plt.text(xt,5,'Bytes per line = %d'%(BPL));"
   ]
  },
  {
   "cell_type": "code",
   "execution_count": null,
   "id": "da6ff6a4-a339-44f9-9cb2-d14e11aff7b9",
   "metadata": {},
   "outputs": [],
   "source": [
    "# Now lets plot against image size in bytes\n",
    "plt.semilogx(ISIZEGB,GOODPERCENT,'o');\n",
    "plt.ylabel('Percent Chance Good')\n",
    "plt.xlabel('log10(Image Size, GB)')\n",
    "plt.ylim((-5,110))\n",
    "plt.title('Effective Errors per Million \\\"LOC\\\" = %f'%(EPML))\n",
    "plt.grid(which='both',linestyle='--')\n",
    "xmin, xmax, ymin, ymax = plt.axis() \n",
    "ldx=np.log10(xmax)-np.log10(xmin)\n",
    "xt=10**(np.log10(xmin)+ldx/20)\n",
    "plt.text(xt,5,'Bytes per line = %d'%(BPL));"
   ]
  },
  {
   "cell_type": "code",
   "execution_count": null,
   "id": "a41029f4-a324-41ca-95a4-514ca0b410c2",
   "metadata": {},
   "outputs": [],
   "source": []
  }
 ],
 "metadata": {
  "kernelspec": {
   "display_name": "Python 3 (ipykernel)",
   "language": "python",
   "name": "python3"
  },
  "language_info": {
   "codemirror_mode": {
    "name": "ipython",
    "version": 3
   },
   "file_extension": ".py",
   "mimetype": "text/x-python",
   "name": "python",
   "nbconvert_exporter": "python",
   "pygments_lexer": "ipython3",
   "version": "3.12.5"
  }
 },
 "nbformat": 4,
 "nbformat_minor": 5
}
